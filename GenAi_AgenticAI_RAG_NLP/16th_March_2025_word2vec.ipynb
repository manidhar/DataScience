{
 "cells": [
  {
   "cell_type": "code",
   "execution_count": 5,
   "id": "4928c358",
   "metadata": {},
   "outputs": [
    {
     "name": "stdout",
     "output_type": "stream",
     "text": [
      "Collecting matplotlib\n",
      "  Downloading matplotlib-3.10.1-cp310-cp310-win_amd64.whl.metadata (11 kB)\n",
      "Collecting contourpy>=1.0.1 (from matplotlib)\n",
      "  Downloading contourpy-1.3.2-cp310-cp310-win_amd64.whl.metadata (5.5 kB)\n",
      "Collecting cycler>=0.10 (from matplotlib)\n",
      "  Downloading cycler-0.12.1-py3-none-any.whl.metadata (3.8 kB)\n",
      "Collecting fonttools>=4.22.0 (from matplotlib)\n",
      "  Downloading fonttools-4.57.0-cp310-cp310-win_amd64.whl.metadata (104 kB)\n",
      "Collecting kiwisolver>=1.3.1 (from matplotlib)\n",
      "  Downloading kiwisolver-1.4.8-cp310-cp310-win_amd64.whl.metadata (6.3 kB)\n",
      "Requirement already satisfied: numpy>=1.23 in c:\\users\\manid\\anaconda3\\envs\\mcp_test\\lib\\site-packages (from matplotlib) (1.26.4)\n",
      "Requirement already satisfied: packaging>=20.0 in c:\\users\\manid\\anaconda3\\envs\\mcp_test\\lib\\site-packages (from matplotlib) (24.2)\n",
      "Collecting pillow>=8 (from matplotlib)\n",
      "  Downloading pillow-11.2.1-cp310-cp310-win_amd64.whl.metadata (9.1 kB)\n",
      "Collecting pyparsing>=2.3.1 (from matplotlib)\n",
      "  Downloading pyparsing-3.2.3-py3-none-any.whl.metadata (5.0 kB)\n",
      "Requirement already satisfied: python-dateutil>=2.7 in c:\\users\\manid\\anaconda3\\envs\\mcp_test\\lib\\site-packages (from matplotlib) (2.9.0.post0)\n",
      "Requirement already satisfied: six>=1.5 in c:\\users\\manid\\anaconda3\\envs\\mcp_test\\lib\\site-packages (from python-dateutil>=2.7->matplotlib) (1.17.0)\n",
      "Downloading matplotlib-3.10.1-cp310-cp310-win_amd64.whl (8.1 MB)\n",
      "   ---------------------------------------- 0.0/8.1 MB ? eta -:--:--\n",
      "   -- ------------------------------------- 0.5/8.1 MB 3.4 MB/s eta 0:00:03\n",
      "   -- ------------------------------------- 0.5/8.1 MB 3.4 MB/s eta 0:00:03\n",
      "   --- ------------------------------------ 0.8/8.1 MB 1.4 MB/s eta 0:00:06\n",
      "   ----- ---------------------------------- 1.0/8.1 MB 1.1 MB/s eta 0:00:07\n",
      "   ------ --------------------------------- 1.3/8.1 MB 1.1 MB/s eta 0:00:06\n",
      "   ---------- ----------------------------- 2.1/8.1 MB 1.6 MB/s eta 0:00:04\n",
      "   ------------- -------------------------- 2.6/8.1 MB 1.7 MB/s eta 0:00:04\n",
      "   --------------- ------------------------ 3.1/8.1 MB 1.8 MB/s eta 0:00:03\n",
      "   ------------------ --------------------- 3.7/8.1 MB 1.9 MB/s eta 0:00:03\n",
      "   ------------------- -------------------- 3.9/8.1 MB 1.9 MB/s eta 0:00:03\n",
      "   ---------------------- ----------------- 4.5/8.1 MB 1.9 MB/s eta 0:00:02\n",
      "   -------------------------- ------------- 5.2/8.1 MB 2.1 MB/s eta 0:00:02\n",
      "   --------------------------- ------------ 5.5/8.1 MB 2.1 MB/s eta 0:00:02\n",
      "   ----------------------------- ---------- 6.0/8.1 MB 2.1 MB/s eta 0:00:01\n",
      "   -------------------------------- ------- 6.6/8.1 MB 2.1 MB/s eta 0:00:01\n",
      "   --------------------------------- ------ 6.8/8.1 MB 2.1 MB/s eta 0:00:01\n",
      "   ----------------------------------- ---- 7.1/8.1 MB 2.0 MB/s eta 0:00:01\n",
      "   ------------------------------------- -- 7.6/8.1 MB 2.0 MB/s eta 0:00:01\n",
      "   ------------------------------------- -- 7.6/8.1 MB 2.0 MB/s eta 0:00:01\n",
      "   ---------------------------------------- 8.1/8.1 MB 1.9 MB/s eta 0:00:00\n",
      "Downloading contourpy-1.3.2-cp310-cp310-win_amd64.whl (221 kB)\n",
      "Downloading cycler-0.12.1-py3-none-any.whl (8.3 kB)\n",
      "Downloading fonttools-4.57.0-cp310-cp310-win_amd64.whl (2.2 MB)\n",
      "   ---------------------------------------- 0.0/2.2 MB ? eta -:--:--\n",
      "   ---- ----------------------------------- 0.3/2.2 MB ? eta -:--:--\n",
      "   --------- ------------------------------ 0.5/2.2 MB 1.3 MB/s eta 0:00:02\n",
      "   --------- ------------------------------ 0.5/2.2 MB 1.3 MB/s eta 0:00:02\n",
      "   --------- ------------------------------ 0.5/2.2 MB 1.3 MB/s eta 0:00:02\n",
      "   ------------------- -------------------- 1.0/2.2 MB 914.5 kB/s eta 0:00:02\n",
      "   ----------------------- ---------------- 1.3/2.2 MB 986.4 kB/s eta 0:00:01\n",
      "   ----------------------- ---------------- 1.3/2.2 MB 986.4 kB/s eta 0:00:01\n",
      "   ----------------------- ---------------- 1.3/2.2 MB 986.4 kB/s eta 0:00:01\n",
      "   ---------------------------- ----------- 1.6/2.2 MB 791.5 kB/s eta 0:00:01\n",
      "   --------------------------------- ------ 1.8/2.2 MB 831.8 kB/s eta 0:00:01\n",
      "   -------------------------------------- - 2.1/2.2 MB 883.1 kB/s eta 0:00:01\n",
      "   ---------------------------------------- 2.2/2.2 MB 900.6 kB/s eta 0:00:00\n",
      "Downloading kiwisolver-1.4.8-cp310-cp310-win_amd64.whl (71 kB)\n",
      "Downloading pillow-11.2.1-cp310-cp310-win_amd64.whl (2.7 MB)\n",
      "   ---------------------------------------- 0.0/2.7 MB ? eta -:--:--\n",
      "   ---------------------------------------- 0.0/2.7 MB ? eta -:--:--\n",
      "   --- ------------------------------------ 0.3/2.7 MB ? eta -:--:--\n",
      "   ------- -------------------------------- 0.5/2.7 MB 1.3 MB/s eta 0:00:02\n",
      "   ----------- ---------------------------- 0.8/2.7 MB 859.5 kB/s eta 0:00:03\n",
      "   ----------- ---------------------------- 0.8/2.7 MB 859.5 kB/s eta 0:00:03\n",
      "   --------------- ------------------------ 1.0/2.7 MB 898.8 kB/s eta 0:00:02\n",
      "   ------------------- -------------------- 1.3/2.7 MB 972.7 kB/s eta 0:00:02\n",
      "   ------------------- -------------------- 1.3/2.7 MB 972.7 kB/s eta 0:00:02\n",
      "   ------------------- -------------------- 1.3/2.7 MB 972.7 kB/s eta 0:00:02\n",
      "   ----------------------- ---------------- 1.6/2.7 MB 762.5 kB/s eta 0:00:02\n",
      "   ----------------------- ---------------- 1.6/2.7 MB 762.5 kB/s eta 0:00:02\n",
      "   ----------------------- ---------------- 1.6/2.7 MB 762.5 kB/s eta 0:00:02\n",
      "   --------------------------- ------------ 1.8/2.7 MB 629.1 kB/s eta 0:00:02\n",
      "   --------------------------- ------------ 1.8/2.7 MB 629.1 kB/s eta 0:00:02\n",
      "   ------------------------------- -------- 2.1/2.7 MB 624.6 kB/s eta 0:00:01\n",
      "   ----------------------------------- ---- 2.4/2.7 MB 677.8 kB/s eta 0:00:01\n",
      "   ----------------------------------- ---- 2.4/2.7 MB 677.8 kB/s eta 0:00:01\n",
      "   ---------------------------------------- 2.7/2.7 MB 686.6 kB/s eta 0:00:00\n",
      "Downloading pyparsing-3.2.3-py3-none-any.whl (111 kB)\n",
      "Installing collected packages: pyparsing, pillow, kiwisolver, fonttools, cycler, contourpy, matplotlib\n",
      "Successfully installed contourpy-1.3.2 cycler-0.12.1 fonttools-4.57.0 kiwisolver-1.4.8 matplotlib-3.10.1 pillow-11.2.1 pyparsing-3.2.3\n",
      "Note: you may need to restart the kernel to use updated packages.\n"
     ]
    }
   ],
   "source": [
    "pip install matplotlib"
   ]
  },
  {
   "cell_type": "code",
   "execution_count": 6,
   "id": "e9d35ff8",
   "metadata": {},
   "outputs": [],
   "source": [
    "import nltk\n",
    "import string\n",
    "import matplotlib.pyplot as plt\n",
    "from gensim.models import Word2Vec\n",
    "from nltk.tokenize import word_tokenize\n",
    "from nltk.corpus import stopwords\n",
    "import numpy as np\n",
    "import re"
   ]
  },
  {
   "cell_type": "code",
   "execution_count": 7,
   "id": "6dcdff4b",
   "metadata": {},
   "outputs": [
    {
     "name": "stderr",
     "output_type": "stream",
     "text": [
      "[nltk_data] Downloading package punkt to\n",
      "[nltk_data]     C:\\Users\\manid\\AppData\\Roaming\\nltk_data...\n",
      "[nltk_data]   Package punkt is already up-to-date!\n",
      "[nltk_data] Downloading package stopwords to\n",
      "[nltk_data]     C:\\Users\\manid\\AppData\\Roaming\\nltk_data...\n",
      "[nltk_data]   Package stopwords is already up-to-date!\n"
     ]
    },
    {
     "data": {
      "text/plain": [
       "True"
      ]
     },
     "execution_count": 7,
     "metadata": {},
     "output_type": "execute_result"
    }
   ],
   "source": [
    "nltk.download('punkt')\n",
    "nltk.download('stopwords')"
   ]
  },
  {
   "cell_type": "code",
   "execution_count": 27,
   "id": "eed8cd7a",
   "metadata": {},
   "outputs": [],
   "source": [
    "corpus=[\n",
    "  \"My name is Manidhar Karnatakam\",\n",
    "  \"I am learning Gen AI\",\n",
    "  \"I am learning Python\",\n",
    "  \"I am learning Data Science\",\n",
    "  \"I am learning Machine Learning\",\n",
    "  \"I am learning Deep Learning\",\n",
    "  \"we are trying to learn word2vec,\"\n",
    "  \"we will try to build two models from word 2 vec cbow and skipgram\",\n",
    "  \"we will also work on clearning the data which is basically a part of data cleaning\",\n",
    "  \"word 2 vec is being used for word embedding\",\n",
    "  \"it is going to perfrom better than one hot,bow,TF-IDF\",\n",
    "  \"hfsdlafjlasdfjklsd lkjdsla;fuo2349023984 234@#$SDFASdf \" \n",
    "]"
   ]
  },
  {
   "cell_type": "code",
   "execution_count": 15,
   "id": "9e47f179",
   "metadata": {},
   "outputs": [],
   "source": [
    "s =\"my name is Manidhar Karnatakam !!!!!! 3423sdfsad.\""
   ]
  },
  {
   "cell_type": "code",
   "execution_count": 16,
   "id": "217d8c6a",
   "metadata": {},
   "outputs": [
    {
     "data": {
      "text/plain": [
       "'my name is Manidhar Karnatakam !!!!!! sdfsad.'"
      ]
     },
     "execution_count": 16,
     "metadata": {},
     "output_type": "execute_result"
    }
   ],
   "source": [
    "re.sub(r'\\d', '', s)"
   ]
  },
  {
   "cell_type": "code",
   "execution_count": 17,
   "id": "861628c9",
   "metadata": {},
   "outputs": [
    {
     "data": {
      "text/plain": [
       "'!\"#$%&\\'()*+,-./:;<=>?@[\\\\]^_`{|}~'"
      ]
     },
     "execution_count": 17,
     "metadata": {},
     "output_type": "execute_result"
    }
   ],
   "source": [
    "string.punctuation"
   ]
  },
  {
   "cell_type": "code",
   "execution_count": 18,
   "id": "eb11c91c",
   "metadata": {},
   "outputs": [
    {
     "data": {
      "text/plain": [
       "'my name is Manidhar Karnatakam  3423sdfsad'"
      ]
     },
     "execution_count": 18,
     "metadata": {},
     "output_type": "execute_result"
    }
   ],
   "source": [
    "s.translate(str.maketrans('', '', string.punctuation))"
   ]
  },
  {
   "cell_type": "code",
   "execution_count": 19,
   "id": "5619ae18",
   "metadata": {},
   "outputs": [
    {
     "data": {
      "text/plain": [
       "['my',\n",
       " 'name',\n",
       " 'is',\n",
       " 'Manidhar',\n",
       " 'Karnatakam',\n",
       " '!',\n",
       " '!',\n",
       " '!',\n",
       " '!',\n",
       " '!',\n",
       " '!',\n",
       " '3423sdfsad',\n",
       " '.']"
      ]
     },
     "execution_count": 19,
     "metadata": {},
     "output_type": "execute_result"
    }
   ],
   "source": [
    "word_tokenize(s)"
   ]
  },
  {
   "cell_type": "code",
   "execution_count": 20,
   "id": "3bb2c1d6",
   "metadata": {},
   "outputs": [],
   "source": [
    "s1=word_tokenize(s)"
   ]
  },
  {
   "cell_type": "code",
   "execution_count": 21,
   "id": "55c42b40",
   "metadata": {},
   "outputs": [
    {
     "data": {
      "text/plain": [
       "['my',\n",
       " 'name',\n",
       " 'is',\n",
       " 'Manidhar',\n",
       " 'Karnatakam',\n",
       " '!',\n",
       " '!',\n",
       " '!',\n",
       " '!',\n",
       " '!',\n",
       " '!',\n",
       " '3423sdfsad',\n",
       " '.']"
      ]
     },
     "execution_count": 21,
     "metadata": {},
     "output_type": "execute_result"
    }
   ],
   "source": [
    "s1"
   ]
  },
  {
   "cell_type": "code",
   "execution_count": 23,
   "id": "5283388f",
   "metadata": {},
   "outputs": [
    {
     "data": {
      "text/plain": [
       "['name',\n",
       " 'Manidhar',\n",
       " 'Karnatakam',\n",
       " '!',\n",
       " '!',\n",
       " '!',\n",
       " '!',\n",
       " '!',\n",
       " '!',\n",
       " '3423sdfsad',\n",
       " '.']"
      ]
     },
     "execution_count": 23,
     "metadata": {},
     "output_type": "execute_result"
    }
   ],
   "source": [
    "[i for i in s1 if i not in stopwords.words('english')]"
   ]
  },
  {
   "cell_type": "code",
   "execution_count": 24,
   "id": "8e6b0080",
   "metadata": {},
   "outputs": [],
   "source": [
    "def word_preProcessing(text):\n",
    "  text = text.lower()\n",
    "  text = re.sub(r'\\d', '', text)\n",
    "  text = text.translate(str.maketrans('', '', string.punctuation))\n",
    "  tokens = word_tokenize(text)\n",
    "  tokens = [i for i in tokens if i not in stopwords.words('english')]\n",
    "  return tokens"
   ]
  },
  {
   "cell_type": "code",
   "execution_count": 25,
   "id": "9d4b3bb7",
   "metadata": {},
   "outputs": [
    {
     "name": "stdout",
     "output_type": "stream",
     "text": [
      "['name', 'manidhar', 'karnatakam', 'sdfsad']\n"
     ]
    }
   ],
   "source": [
    "print(word_preProcessing(s))"
   ]
  },
  {
   "cell_type": "code",
   "execution_count": 29,
   "id": "f057751e",
   "metadata": {},
   "outputs": [],
   "source": [
    "processed_corpus=[word_preProcessing(sentence) for sentence in corpus]"
   ]
  },
  {
   "cell_type": "code",
   "execution_count": 30,
   "id": "6b41c80c",
   "metadata": {},
   "outputs": [
    {
     "data": {
      "text/plain": [
       "[['name', 'manidhar', 'karnatakam'],\n",
       " ['learning', 'gen', 'ai'],\n",
       " ['learning', 'python'],\n",
       " ['learning', 'data', 'science'],\n",
       " ['learning', 'machine', 'learning'],\n",
       " ['learning', 'deep', 'learning'],\n",
       " ['trying',\n",
       "  'learn',\n",
       "  'wordvecwe',\n",
       "  'try',\n",
       "  'build',\n",
       "  'two',\n",
       "  'models',\n",
       "  'word',\n",
       "  'vec',\n",
       "  'cbow',\n",
       "  'skipgram'],\n",
       " ['also',\n",
       "  'work',\n",
       "  'clearning',\n",
       "  'data',\n",
       "  'basically',\n",
       "  'part',\n",
       "  'data',\n",
       "  'cleaning'],\n",
       " ['word', 'vec', 'used', 'word', 'embedding'],\n",
       " ['going', 'perfrom', 'better', 'one', 'hotbowtfidf'],\n",
       " ['hfsdlafjlasdfjklsd', 'lkjdslafuo', 'sdfasdf']]"
      ]
     },
     "execution_count": 30,
     "metadata": {},
     "output_type": "execute_result"
    }
   ],
   "source": [
    "processed_corpus"
   ]
  },
  {
   "cell_type": "code",
   "execution_count": 31,
   "id": "0118b1c4",
   "metadata": {},
   "outputs": [],
   "source": [
    "word2vec_cbow = Word2Vec(sentences=processed_corpus, vector_size=100, window=5, min_count=1, sg=0)\n",
    "word2vec_skipgram = Word2Vec(sentences=processed_corpus, vector_size=100, window=5, min_count=1, sg=1)"
   ]
  },
  {
   "cell_type": "code",
   "execution_count": 33,
   "id": "db8cb35e",
   "metadata": {},
   "outputs": [
    {
     "data": {
      "text/plain": [
       "<gensim.models.word2vec.Word2Vec at 0x2614dfaf250>"
      ]
     },
     "execution_count": 33,
     "metadata": {},
     "output_type": "execute_result"
    }
   ],
   "source": [
    "word2vec_cbow"
   ]
  },
  {
   "cell_type": "code",
   "execution_count": 34,
   "id": "4aefe679",
   "metadata": {},
   "outputs": [
    {
     "data": {
      "text/plain": [
       "<gensim.models.word2vec.Word2Vec at 0x2614de9b5e0>"
      ]
     },
     "execution_count": 34,
     "metadata": {},
     "output_type": "execute_result"
    }
   ],
   "source": [
    "word2vec_skipgram"
   ]
  },
  {
   "cell_type": "code",
   "execution_count": 38,
   "id": "1955123f",
   "metadata": {},
   "outputs": [
    {
     "data": {
      "text/plain": [
       "array([-9.5785465e-03,  8.9431154e-03,  4.1650687e-03,  9.2347348e-03,\n",
       "        6.6435025e-03,  2.9247368e-03,  9.8040197e-03, -4.4246409e-03,\n",
       "       -6.8033109e-03,  4.2273807e-03,  3.7290000e-03, -5.6646108e-03,\n",
       "        9.7047603e-03, -3.5583067e-03,  9.5494064e-03,  8.3472609e-04,\n",
       "       -6.3384566e-03, -1.9771170e-03, -7.3770545e-03, -2.9795230e-03,\n",
       "        1.0416972e-03,  9.4826873e-03,  9.3558477e-03, -6.5958775e-03,\n",
       "        3.4751510e-03,  2.2755705e-03, -2.4893521e-03, -9.2291720e-03,\n",
       "        1.0271263e-03, -8.1657059e-03,  6.3201892e-03, -5.8000805e-03,\n",
       "        5.5354391e-03,  9.8337233e-03, -1.6000033e-04,  4.5284927e-03,\n",
       "       -1.8094003e-03,  7.3607611e-03,  3.9400971e-03, -9.0103243e-03,\n",
       "       -2.3985039e-03,  3.6287690e-03, -9.9568366e-05, -1.2012708e-03,\n",
       "       -1.0554385e-03, -1.6716016e-03,  6.0495257e-04,  4.1650953e-03,\n",
       "       -4.2527914e-03, -3.8336217e-03, -5.2816868e-05,  2.6935578e-04,\n",
       "       -1.6880632e-04, -4.7855065e-03,  4.3134023e-03, -2.1719194e-03,\n",
       "        2.1035396e-03,  6.6652300e-04,  5.9696771e-03, -6.8423809e-03,\n",
       "       -6.8157101e-03, -4.4762576e-03,  9.4358288e-03, -1.5918827e-03,\n",
       "       -9.4292425e-03, -5.4504158e-04, -4.4489228e-03,  6.0000787e-03,\n",
       "       -9.5836855e-03,  2.8590010e-03, -9.2528323e-03,  1.2498009e-03,\n",
       "        5.9991982e-03,  7.3973476e-03, -7.6214634e-03, -6.0530235e-03,\n",
       "       -6.8384409e-03, -7.9183402e-03, -9.4990805e-03, -2.1254970e-03,\n",
       "       -8.3593250e-04, -7.2562015e-03,  6.7870365e-03,  1.1196196e-03,\n",
       "        5.8288667e-03,  1.4728665e-03,  7.8936579e-04, -7.3681297e-03,\n",
       "       -2.1766580e-03,  4.3210792e-03, -5.0853146e-03,  1.1307895e-03,\n",
       "        2.8833640e-03, -1.5363609e-03,  9.9322954e-03,  8.3496347e-03,\n",
       "        2.4156666e-03,  7.1182456e-03,  5.8914376e-03, -5.5806171e-03],\n",
       "      dtype=float32)"
      ]
     },
     "execution_count": 38,
     "metadata": {},
     "output_type": "execute_result"
    }
   ],
   "source": [
    "word2vec_skipgram.wv['manidhar']"
   ]
  },
  {
   "cell_type": "code",
   "execution_count": 39,
   "id": "926832f1",
   "metadata": {},
   "outputs": [
    {
     "data": {
      "text/plain": [
       "100"
      ]
     },
     "execution_count": 39,
     "metadata": {},
     "output_type": "execute_result"
    }
   ],
   "source": [
    "word2vec_skipgram.vector_size"
   ]
  },
  {
   "cell_type": "code",
   "execution_count": 40,
   "id": "97d282a5",
   "metadata": {},
   "outputs": [
    {
     "data": {
      "text/plain": [
       "100"
      ]
     },
     "execution_count": 40,
     "metadata": {},
     "output_type": "execute_result"
    }
   ],
   "source": [
    "len(word2vec_skipgram.wv['manidhar'])"
   ]
  },
  {
   "cell_type": "code",
   "execution_count": 48,
   "id": "23bb0a26",
   "metadata": {},
   "outputs": [
    {
     "data": {
      "text/plain": [
       "[('also', 0.1427941471338272),\n",
       " ('trying', 0.1281948685646057),\n",
       " ('deep', 0.10941850394010544),\n",
       " ('python', 0.1088901236653328),\n",
       " ('hotbowtfidf', 0.10811808705329895)]"
      ]
     },
     "execution_count": 48,
     "metadata": {},
     "output_type": "execute_result"
    }
   ],
   "source": [
    "word2vec_skipgram.wv.most_similar('machine', topn=5)"
   ]
  },
  {
   "cell_type": "code",
   "execution_count": 46,
   "id": "5f36a208",
   "metadata": {},
   "outputs": [
    {
     "data": {
      "text/plain": [
       "0.06285078"
      ]
     },
     "execution_count": 46,
     "metadata": {},
     "output_type": "execute_result"
    }
   ],
   "source": [
    "word2vec_cbow.wv.similarity('machine', 'learning')"
   ]
  },
  {
   "cell_type": "code",
   "execution_count": 47,
   "id": "dba43246",
   "metadata": {},
   "outputs": [
    {
     "data": {
      "text/plain": [
       "['learning',\n",
       " 'word',\n",
       " 'data',\n",
       " 'vec',\n",
       " 'karnatakam',\n",
       " 'gen',\n",
       " 'ai',\n",
       " 'python',\n",
       " 'manidhar',\n",
       " 'models',\n",
       " 'machine',\n",
       " 'deep',\n",
       " 'trying',\n",
       " 'learn',\n",
       " 'wordvecwe',\n",
       " 'try',\n",
       " 'build',\n",
       " 'two',\n",
       " 'science',\n",
       " 'sdfasdf',\n",
       " 'lkjdslafuo',\n",
       " 'cbow',\n",
       " 'hfsdlafjlasdfjklsd',\n",
       " 'hotbowtfidf',\n",
       " 'one',\n",
       " 'better',\n",
       " 'perfrom',\n",
       " 'going',\n",
       " 'embedding',\n",
       " 'used',\n",
       " 'cleaning',\n",
       " 'part',\n",
       " 'basically',\n",
       " 'clearning',\n",
       " 'work',\n",
       " 'also',\n",
       " 'skipgram',\n",
       " 'name']"
      ]
     },
     "execution_count": 47,
     "metadata": {},
     "output_type": "execute_result"
    }
   ],
   "source": [
    "word2vec_cbow.wv.index_to_key"
   ]
  },
  {
   "cell_type": "code",
   "execution_count": 52,
   "id": "3398fcc6",
   "metadata": {},
   "outputs": [
    {
     "data": {
      "text/plain": [
       "[('learn', 0.2528402805328369),\n",
       " ('perfrom', 0.20082910358905792),\n",
       " ('cleaning', 0.17527639865875244),\n",
       " ('data', 0.17020943760871887),\n",
       " ('trying', 0.15006306767463684)]"
      ]
     },
     "execution_count": 52,
     "metadata": {},
     "output_type": "execute_result"
    }
   ],
   "source": [
    "word2vec_cbow.wv.most_similar('karnatakam',topn=5)\n"
   ]
  },
  {
   "cell_type": "code",
   "execution_count": 53,
   "id": "f44e845e",
   "metadata": {},
   "outputs": [
    {
     "data": {
      "text/plain": [
       "[('learn', 0.2532992959022522),\n",
       " ('perfrom', 0.20082910358905792),\n",
       " ('cleaning', 0.1755191683769226),\n",
       " ('data', 0.17015618085861206),\n",
       " ('trying', 0.15030580759048462)]"
      ]
     },
     "execution_count": 53,
     "metadata": {},
     "output_type": "execute_result"
    }
   ],
   "source": [
    "word2vec_skipgram.wv.most_similar('karnatakam',topn=5)"
   ]
  },
  {
   "cell_type": "code",
   "execution_count": 57,
   "id": "c69b5e87",
   "metadata": {},
   "outputs": [],
   "source": [
    "from sklearn.manifold import TSNE"
   ]
  },
  {
   "cell_type": "code",
   "execution_count": 59,
   "id": "7a032cb1",
   "metadata": {},
   "outputs": [],
   "source": [
    "word_vectors=word2vec_cbow.wv\n",
    "vocab=list(word_vectors.index_to_key)"
   ]
  },
  {
   "cell_type": "code",
   "execution_count": 61,
   "id": "2c78389d",
   "metadata": {},
   "outputs": [
    {
     "data": {
      "text/plain": [
       "38"
      ]
     },
     "execution_count": 61,
     "metadata": {},
     "output_type": "execute_result"
    }
   ],
   "source": [
    "len(vocab)"
   ]
  },
  {
   "cell_type": "code",
   "execution_count": 63,
   "id": "b2ebd1ed",
   "metadata": {},
   "outputs": [],
   "source": [
    "X=np.array([word_vectors[i] for i in vocab])"
   ]
  },
  {
   "cell_type": "code",
   "execution_count": 64,
   "id": "89ab5230",
   "metadata": {},
   "outputs": [],
   "source": [
    "tsne=TSNE(n_components=2)"
   ]
  },
  {
   "cell_type": "code",
   "execution_count": 68,
   "id": "d1b412dc",
   "metadata": {},
   "outputs": [],
   "source": [
    "x_new_embeddings=tsne.fit_transform(X)"
   ]
  },
  {
   "cell_type": "code",
   "execution_count": 69,
   "id": "fc87082c",
   "metadata": {},
   "outputs": [
    {
     "data": {
      "text/plain": [
       "<matplotlib.collections.PathCollection at 0x2614e76f160>"
      ]
     },
     "execution_count": 69,
     "metadata": {},
     "output_type": "execute_result"
    },
    {
     "data": {
      "image/png": "[encoded data removed]",
      "text/plain": [
       "<Figure size 1200x600 with 1 Axes>"
      ]
     },
     "metadata": {},
     "output_type": "display_data"
    }
   ],
   "source": [
    "plt.figure(figsize=(12, 6))\n",
    "plt.scatter(x_new_embeddings[:, 0], x_new_embeddings[:, 1], marker='o')"
   ]
  },
  {
   "cell_type": "code",
   "execution_count": 74,
   "id": "e0558a52",
   "metadata": {},
   "outputs": [
    {
     "data": {
      "image/png": "[encoded data removed]",
      "text/plain": [
       "<Figure size 1200x600 with 1 Axes>"
      ]
     },
     "metadata": {},
     "output_type": "display_data"
    }
   ],
   "source": [
    "plt.figure(figsize=(12, 6))\n",
    "plt.scatter(x_new_embeddings[:, 0], x_new_embeddings[:, 1], marker='o')\n",
    "for i,words in enumerate(vocab[:len(x_new_embeddings)]):\n",
    "    if words in vocab:\n",
    "        plt.annotate(words, xy=(x_new_embeddings[i, 0], x_new_embeddings[i, 1]), fontsize=12)\n",
    "plt.title('Word2Vec Word Embeddings Visualization')\n",
    "plt.show()"
   ]
  },
  {
   "cell_type": "code",
   "execution_count": 82,
   "id": "c9f134da",
   "metadata": {},
   "outputs": [],
   "source": [
    "from nltk import ne_chunk,pos_tag"
   ]
  },
  {
   "cell_type": "code",
   "execution_count": 84,
   "id": "972208f5",
   "metadata": {},
   "outputs": [
    {
     "data": {
      "image/svg+xml": [
       "<svg baseProfile=\"full\" height=\"168px\" preserveAspectRatio=\"xMidYMid meet\" style=\"font-family: times, serif; font-weight: normal; font-style: normal; font-size: 16px\" version=\"1.1\" viewBox=\"0,0,1536.0,168.0\" width=\"1536px\" xmlns=\"http://www.w3.org/2000/svg\" xmlns:ev=\"http://www.w3.org/2001/xml-events\" xmlns:xlink=\"http://www.w3.org/1999/xlink\"><defs /><svg width=\"100%\" x=\"0\" y=\"0px\"><defs /><text text-anchor=\"middle\" x=\"50%\" y=\"16px\">S</text></svg><svg width=\"3.125%\" x=\"0%\" y=\"48px\"><defs /><svg width=\"100%\" x=\"0\" y=\"0px\"><defs /><text text-anchor=\"middle\" x=\"50%\" y=\"16px\">My</text></svg><svg width=\"100%\" x=\"0%\" y=\"48px\"><defs /><svg width=\"100%\" x=\"0\" y=\"0px\"><defs /><text text-anchor=\"middle\" x=\"50%\" y=\"16px\">PRP$</text></svg></svg><line stroke=\"black\" x1=\"50%\" x2=\"50%\" y1=\"20px\" y2=\"48px\" /></svg><line stroke=\"black\" x1=\"50%\" x2=\"1.5625%\" y1=\"20px\" y2=\"48px\" /><svg width=\"3.125%\" x=\"3.125%\" y=\"48px\"><defs /><svg width=\"100%\" x=\"0\" y=\"0px\"><defs /><text text-anchor=\"middle\" x=\"50%\" y=\"16px\">name</text></svg><svg width=\"100%\" x=\"0%\" y=\"48px\"><defs /><svg width=\"100%\" x=\"0\" y=\"0px\"><defs /><text text-anchor=\"middle\" x=\"50%\" y=\"16px\">NN</text></svg></svg><line stroke=\"black\" x1=\"50%\" x2=\"50%\" y1=\"20px\" y2=\"48px\" /></svg><line stroke=\"black\" x1=\"50%\" x2=\"4.6875%\" y1=\"20px\" y2=\"48px\" /><svg width=\"2.60417%\" x=\"6.25%\" y=\"48px\"><defs /><svg width=\"100%\" x=\"0\" y=\"0px\"><defs /><text text-anchor=\"middle\" x=\"50%\" y=\"16px\">is</text></svg><svg width=\"100%\" x=\"0%\" y=\"48px\"><defs /><svg width=\"100%\" x=\"0\" y=\"0px\"><defs /><text text-anchor=\"middle\" x=\"50%\" y=\"16px\">VBZ</text></svg></svg><line stroke=\"black\" x1=\"50%\" x2=\"50%\" y1=\"20px\" y2=\"48px\" /></svg><line stroke=\"black\" x1=\"50%\" x2=\"7.55208%\" y1=\"20px\" y2=\"48px\" /><svg width=\"11.4583%\" x=\"8.85417%\" y=\"48px\"><defs /><svg width=\"100%\" x=\"0\" y=\"0px\"><defs /><text text-anchor=\"middle\" x=\"50%\" y=\"16px\">NE</text></svg><svg width=\"45.4545%\" x=\"0%\" y=\"48px\"><defs /><svg width=\"100%\" x=\"0\" y=\"0px\"><defs /><text text-anchor=\"middle\" x=\"50%\" y=\"16px\">Manidhar</text></svg><svg width=\"100%\" x=\"0%\" y=\"48px\"><defs /><svg width=\"100%\" x=\"0\" y=\"0px\"><defs /><text text-anchor=\"middle\" x=\"50%\" y=\"16px\">NNP</text></svg></svg><line stroke=\"black\" x1=\"50%\" x2=\"50%\" y1=\"20px\" y2=\"48px\" /></svg><line stroke=\"black\" x1=\"50%\" x2=\"22.7273%\" y1=\"20px\" y2=\"48px\" /><svg width=\"54.5455%\" x=\"45.4545%\" y=\"48px\"><defs /><svg width=\"100%\" x=\"0\" y=\"0px\"><defs /><text text-anchor=\"middle\" x=\"50%\" y=\"16px\">Karnatakam</text></svg><svg width=\"100%\" x=\"0%\" y=\"48px\"><defs /><svg width=\"100%\" x=\"0\" y=\"0px\"><defs /><text text-anchor=\"middle\" x=\"50%\" y=\"16px\">NNP</text></svg></svg><line stroke=\"black\" x1=\"50%\" x2=\"50%\" y1=\"20px\" y2=\"48px\" /></svg><line stroke=\"black\" x1=\"50%\" x2=\"72.7273%\" y1=\"20px\" y2=\"48px\" /></svg><line stroke=\"black\" x1=\"50%\" x2=\"14.5833%\" y1=\"20px\" y2=\"48px\" /><svg width=\"1.5625%\" x=\"20.3125%\" y=\"48px\"><defs /><svg width=\"100%\" x=\"0\" y=\"0px\"><defs /><text text-anchor=\"middle\" x=\"50%\" y=\"16px\">,</text></svg><svg width=\"100%\" x=\"0%\" y=\"48px\"><defs /><svg width=\"100%\" x=\"0\" y=\"0px\"><defs /><text text-anchor=\"middle\" x=\"50%\" y=\"16px\">,</text></svg></svg><line stroke=\"black\" x1=\"50%\" x2=\"50%\" y1=\"20px\" y2=\"48px\" /></svg><line stroke=\"black\" x1=\"50%\" x2=\"21.0938%\" y1=\"20px\" y2=\"48px\" /><svg width=\"2.60417%\" x=\"21.875%\" y=\"48px\"><defs /><svg width=\"100%\" x=\"0\" y=\"0px\"><defs /><text text-anchor=\"middle\" x=\"50%\" y=\"16px\">I</text></svg><svg width=\"100%\" x=\"0%\" y=\"48px\"><defs /><svg width=\"100%\" x=\"0\" y=\"0px\"><defs /><text text-anchor=\"middle\" x=\"50%\" y=\"16px\">PRP</text></svg></svg><line stroke=\"black\" x1=\"50%\" x2=\"50%\" y1=\"20px\" y2=\"48px\" /></svg><line stroke=\"black\" x1=\"50%\" x2=\"23.1771%\" y1=\"20px\" y2=\"48px\" /><svg width=\"2.60417%\" x=\"24.4792%\" y=\"48px\"><defs /><svg width=\"100%\" x=\"0\" y=\"0px\"><defs /><text text-anchor=\"middle\" x=\"50%\" y=\"16px\">am</text></svg><svg width=\"100%\" x=\"0%\" y=\"48px\"><defs /><svg width=\"100%\" x=\"0\" y=\"0px\"><defs /><text text-anchor=\"middle\" x=\"50%\" y=\"16px\">VBP</text></svg></svg><line stroke=\"black\" x1=\"50%\" x2=\"50%\" y1=\"20px\" y2=\"48px\" /></svg><line stroke=\"black\" x1=\"50%\" x2=\"25.7812%\" y1=\"20px\" y2=\"48px\" /><svg width=\"4.16667%\" x=\"27.0833%\" y=\"48px\"><defs /><svg width=\"100%\" x=\"0\" y=\"0px\"><defs /><text text-anchor=\"middle\" x=\"50%\" y=\"16px\">living</text></svg><svg width=\"100%\" x=\"0%\" y=\"48px\"><defs /><svg width=\"100%\" x=\"0\" y=\"0px\"><defs /><text text-anchor=\"middle\" x=\"50%\" y=\"16px\">VBG</text></svg></svg><line stroke=\"black\" x1=\"50%\" x2=\"50%\" y1=\"20px\" y2=\"48px\" /></svg><line stroke=\"black\" x1=\"50%\" x2=\"29.1667%\" y1=\"20px\" y2=\"48px\" /><svg width=\"2.08333%\" x=\"31.25%\" y=\"48px\"><defs /><svg width=\"100%\" x=\"0\" y=\"0px\"><defs /><text text-anchor=\"middle\" x=\"50%\" y=\"16px\">in</text></svg><svg width=\"100%\" x=\"0%\" y=\"48px\"><defs /><svg width=\"100%\" x=\"0\" y=\"0px\"><defs /><text text-anchor=\"middle\" x=\"50%\" y=\"16px\">IN</text></svg></svg><line stroke=\"black\" x1=\"50%\" x2=\"50%\" y1=\"20px\" y2=\"48px\" /></svg><line stroke=\"black\" x1=\"50%\" x2=\"32.2917%\" y1=\"20px\" y2=\"48px\" /><svg width=\"5.72917%\" x=\"33.3333%\" y=\"48px\"><defs /><svg width=\"100%\" x=\"0\" y=\"0px\"><defs /><text text-anchor=\"middle\" x=\"50%\" y=\"16px\">NE</text></svg><svg width=\"100%\" x=\"0%\" y=\"48px\"><defs /><svg width=\"100%\" x=\"0\" y=\"0px\"><defs /><text text-anchor=\"middle\" x=\"50%\" y=\"16px\">Bangalore</text></svg><svg width=\"100%\" x=\"0%\" y=\"48px\"><defs /><svg width=\"100%\" x=\"0\" y=\"0px\"><defs /><text text-anchor=\"middle\" x=\"50%\" y=\"16px\">NNP</text></svg></svg><line stroke=\"black\" x1=\"50%\" x2=\"50%\" y1=\"20px\" y2=\"48px\" /></svg><line stroke=\"black\" x1=\"50%\" x2=\"50%\" y1=\"20px\" y2=\"48px\" /></svg><line stroke=\"black\" x1=\"50%\" x2=\"36.1979%\" y1=\"20px\" y2=\"48px\" /><svg width=\"2.60417%\" x=\"39.0625%\" y=\"48px\"><defs /><svg width=\"100%\" x=\"0\" y=\"0px\"><defs /><text text-anchor=\"middle\" x=\"50%\" y=\"16px\">and</text></svg><svg width=\"100%\" x=\"0%\" y=\"48px\"><defs /><svg width=\"100%\" x=\"0\" y=\"0px\"><defs /><text text-anchor=\"middle\" x=\"50%\" y=\"16px\">CC</text></svg></svg><line stroke=\"black\" x1=\"50%\" x2=\"50%\" y1=\"20px\" y2=\"48px\" /></svg><line stroke=\"black\" x1=\"50%\" x2=\"40.3646%\" y1=\"20px\" y2=\"48px\" /><svg width=\"2.60417%\" x=\"41.6667%\" y=\"48px\"><defs /><svg width=\"100%\" x=\"0\" y=\"0px\"><defs /><text text-anchor=\"middle\" x=\"50%\" y=\"16px\">I</text></svg><svg width=\"100%\" x=\"0%\" y=\"48px\"><defs /><svg width=\"100%\" x=\"0\" y=\"0px\"><defs /><text text-anchor=\"middle\" x=\"50%\" y=\"16px\">PRP</text></svg></svg><line stroke=\"black\" x1=\"50%\" x2=\"50%\" y1=\"20px\" y2=\"48px\" /></svg><line stroke=\"black\" x1=\"50%\" x2=\"42.9688%\" y1=\"20px\" y2=\"48px\" /><svg width=\"2.60417%\" x=\"44.2708%\" y=\"48px\"><defs /><svg width=\"100%\" x=\"0\" y=\"0px\"><defs /><text text-anchor=\"middle\" x=\"50%\" y=\"16px\">am</text></svg><svg width=\"100%\" x=\"0%\" y=\"48px\"><defs /><svg width=\"100%\" x=\"0\" y=\"0px\"><defs /><text text-anchor=\"middle\" x=\"50%\" y=\"16px\">VBP</text></svg></svg><line stroke=\"black\" x1=\"50%\" x2=\"50%\" y1=\"20px\" y2=\"48px\" /></svg><line stroke=\"black\" x1=\"50%\" x2=\"45.5729%\" y1=\"20px\" y2=\"48px\" /><svg width=\"4.16667%\" x=\"46.875%\" y=\"48px\"><defs /><svg width=\"100%\" x=\"0\" y=\"0px\"><defs /><text text-anchor=\"middle\" x=\"50%\" y=\"16px\">fluent</text></svg><svg width=\"100%\" x=\"0%\" y=\"48px\"><defs /><svg width=\"100%\" x=\"0\" y=\"0px\"><defs /><text text-anchor=\"middle\" x=\"50%\" y=\"16px\">JJ</text></svg></svg><line stroke=\"black\" x1=\"50%\" x2=\"50%\" y1=\"20px\" y2=\"48px\" /></svg><line stroke=\"black\" x1=\"50%\" x2=\"48.9583%\" y1=\"20px\" y2=\"48px\" /><svg width=\"2.08333%\" x=\"51.0417%\" y=\"48px\"><defs /><svg width=\"100%\" x=\"0\" y=\"0px\"><defs /><text text-anchor=\"middle\" x=\"50%\" y=\"16px\">in</text></svg><svg width=\"100%\" x=\"0%\" y=\"48px\"><defs /><svg width=\"100%\" x=\"0\" y=\"0px\"><defs /><text text-anchor=\"middle\" x=\"50%\" y=\"16px\">IN</text></svg></svg><line stroke=\"black\" x1=\"50%\" x2=\"50%\" y1=\"20px\" y2=\"48px\" /></svg><line stroke=\"black\" x1=\"50%\" x2=\"52.0833%\" y1=\"20px\" y2=\"48px\" /><svg width=\"4.6875%\" x=\"53.125%\" y=\"48px\"><defs /><svg width=\"100%\" x=\"0\" y=\"0px\"><defs /><text text-anchor=\"middle\" x=\"50%\" y=\"16px\">NE</text></svg><svg width=\"100%\" x=\"0%\" y=\"48px\"><defs /><svg width=\"100%\" x=\"0\" y=\"0px\"><defs /><text text-anchor=\"middle\" x=\"50%\" y=\"16px\">English</text></svg><svg width=\"100%\" x=\"0%\" y=\"48px\"><defs /><svg width=\"100%\" x=\"0\" y=\"0px\"><defs /><text text-anchor=\"middle\" x=\"50%\" y=\"16px\">NNP</text></svg></svg><line stroke=\"black\" x1=\"50%\" x2=\"50%\" y1=\"20px\" y2=\"48px\" /></svg><line stroke=\"black\" x1=\"50%\" x2=\"50%\" y1=\"20px\" y2=\"48px\" /></svg><line stroke=\"black\" x1=\"50%\" x2=\"55.4687%\" y1=\"20px\" y2=\"48px\" /><svg width=\"1.5625%\" x=\"57.8125%\" y=\"48px\"><defs /><svg width=\"100%\" x=\"0\" y=\"0px\"><defs /><text text-anchor=\"middle\" x=\"50%\" y=\"16px\">,</text></svg><svg width=\"100%\" x=\"0%\" y=\"48px\"><defs /><svg width=\"100%\" x=\"0\" y=\"0px\"><defs /><text text-anchor=\"middle\" x=\"50%\" y=\"16px\">,</text></svg></svg><line stroke=\"black\" x1=\"50%\" x2=\"50%\" y1=\"20px\" y2=\"48px\" /></svg><line stroke=\"black\" x1=\"50%\" x2=\"58.5937%\" y1=\"20px\" y2=\"48px\" /><svg width=\"4.16667%\" x=\"59.375%\" y=\"48px\"><defs /><svg width=\"100%\" x=\"0\" y=\"0px\"><defs /><text text-anchor=\"middle\" x=\"50%\" y=\"16px\">NE</text></svg><svg width=\"100%\" x=\"0%\" y=\"48px\"><defs /><svg width=\"100%\" x=\"0\" y=\"0px\"><defs /><text text-anchor=\"middle\" x=\"50%\" y=\"16px\">Telugu</text></svg><svg width=\"100%\" x=\"0%\" y=\"48px\"><defs /><svg width=\"100%\" x=\"0\" y=\"0px\"><defs /><text text-anchor=\"middle\" x=\"50%\" y=\"16px\">NNP</text></svg></svg><line stroke=\"black\" x1=\"50%\" x2=\"50%\" y1=\"20px\" y2=\"48px\" /></svg><line stroke=\"black\" x1=\"50%\" x2=\"50%\" y1=\"20px\" y2=\"48px\" /></svg><line stroke=\"black\" x1=\"50%\" x2=\"61.4583%\" y1=\"20px\" y2=\"48px\" /><svg width=\"1.5625%\" x=\"63.5417%\" y=\"48px\"><defs /><svg width=\"100%\" x=\"0\" y=\"0px\"><defs /><text text-anchor=\"middle\" x=\"50%\" y=\"16px\">,</text></svg><svg width=\"100%\" x=\"0%\" y=\"48px\"><defs /><svg width=\"100%\" x=\"0\" y=\"0px\"><defs /><text text-anchor=\"middle\" x=\"50%\" y=\"16px\">,</text></svg></svg><line stroke=\"black\" x1=\"50%\" x2=\"50%\" y1=\"20px\" y2=\"48px\" /></svg><line stroke=\"black\" x1=\"50%\" x2=\"64.3229%\" y1=\"20px\" y2=\"48px\" /><svg width=\"3.64583%\" x=\"65.1042%\" y=\"48px\"><defs /><svg width=\"100%\" x=\"0\" y=\"0px\"><defs /><text text-anchor=\"middle\" x=\"50%\" y=\"16px\">NE</text></svg><svg width=\"100%\" x=\"0%\" y=\"48px\"><defs /><svg width=\"100%\" x=\"0\" y=\"0px\"><defs /><text text-anchor=\"middle\" x=\"50%\" y=\"16px\">Hindi</text></svg><svg width=\"100%\" x=\"0%\" y=\"48px\"><defs /><svg width=\"100%\" x=\"0\" y=\"0px\"><defs /><text text-anchor=\"middle\" x=\"50%\" y=\"16px\">NNP</text></svg></svg><line stroke=\"black\" x1=\"50%\" x2=\"50%\" y1=\"20px\" y2=\"48px\" /></svg><line stroke=\"black\" x1=\"50%\" x2=\"50%\" y1=\"20px\" y2=\"48px\" /></svg><line stroke=\"black\" x1=\"50%\" x2=\"66.9271%\" y1=\"20px\" y2=\"48px\" /><svg width=\"2.08333%\" x=\"68.75%\" y=\"48px\"><defs /><svg width=\"100%\" x=\"0\" y=\"0px\"><defs /><text text-anchor=\"middle\" x=\"50%\" y=\"16px\">&amp;</text></svg><svg width=\"100%\" x=\"0%\" y=\"48px\"><defs /><svg width=\"100%\" x=\"0\" y=\"0px\"><defs /><text text-anchor=\"middle\" x=\"50%\" y=\"16px\">CC</text></svg></svg><line stroke=\"black\" x1=\"50%\" x2=\"50%\" y1=\"20px\" y2=\"48px\" /></svg><line stroke=\"black\" x1=\"50%\" x2=\"69.7917%\" y1=\"20px\" y2=\"48px\" /><svg width=\"4.6875%\" x=\"70.8333%\" y=\"48px\"><defs /><svg width=\"100%\" x=\"0\" y=\"0px\"><defs /><text text-anchor=\"middle\" x=\"50%\" y=\"16px\">NE</text></svg><svg width=\"100%\" x=\"0%\" y=\"48px\"><defs /><svg width=\"100%\" x=\"0\" y=\"0px\"><defs /><text text-anchor=\"middle\" x=\"50%\" y=\"16px\">Kannada</text></svg><svg width=\"100%\" x=\"0%\" y=\"48px\"><defs /><svg width=\"100%\" x=\"0\" y=\"0px\"><defs /><text text-anchor=\"middle\" x=\"50%\" y=\"16px\">NNP</text></svg></svg><line stroke=\"black\" x1=\"50%\" x2=\"50%\" y1=\"20px\" y2=\"48px\" /></svg><line stroke=\"black\" x1=\"50%\" x2=\"50%\" y1=\"20px\" y2=\"48px\" /></svg><line stroke=\"black\" x1=\"50%\" x2=\"73.1771%\" y1=\"20px\" y2=\"48px\" /><svg width=\"1.5625%\" x=\"75.5208%\" y=\"48px\"><defs /><svg width=\"100%\" x=\"0\" y=\"0px\"><defs /><text text-anchor=\"middle\" x=\"50%\" y=\"16px\">,</text></svg><svg width=\"100%\" x=\"0%\" y=\"48px\"><defs /><svg width=\"100%\" x=\"0\" y=\"0px\"><defs /><text text-anchor=\"middle\" x=\"50%\" y=\"16px\">,</text></svg></svg><line stroke=\"black\" x1=\"50%\" x2=\"50%\" y1=\"20px\" y2=\"48px\" /></svg><line stroke=\"black\" x1=\"50%\" x2=\"76.3021%\" y1=\"20px\" y2=\"48px\" /><svg width=\"8.33333%\" x=\"77.0833%\" y=\"48px\"><defs /><svg width=\"100%\" x=\"0\" y=\"0px\"><defs /><text text-anchor=\"middle\" x=\"50%\" y=\"16px\">NE</text></svg><svg width=\"62.5%\" x=\"0%\" y=\"48px\"><defs /><svg width=\"100%\" x=\"0\" y=\"0px\"><defs /><text text-anchor=\"middle\" x=\"50%\" y=\"16px\">Narendra</text></svg><svg width=\"100%\" x=\"0%\" y=\"48px\"><defs /><svg width=\"100%\" x=\"0\" y=\"0px\"><defs /><text text-anchor=\"middle\" x=\"50%\" y=\"16px\">NNP</text></svg></svg><line stroke=\"black\" x1=\"50%\" x2=\"50%\" y1=\"20px\" y2=\"48px\" /></svg><line stroke=\"black\" x1=\"50%\" x2=\"31.25%\" y1=\"20px\" y2=\"48px\" /><svg width=\"37.5%\" x=\"62.5%\" y=\"48px\"><defs /><svg width=\"100%\" x=\"0\" y=\"0px\"><defs /><text text-anchor=\"middle\" x=\"50%\" y=\"16px\">Modi</text></svg><svg width=\"100%\" x=\"0%\" y=\"48px\"><defs /><svg width=\"100%\" x=\"0\" y=\"0px\"><defs /><text text-anchor=\"middle\" x=\"50%\" y=\"16px\">NNP</text></svg></svg><line stroke=\"black\" x1=\"50%\" x2=\"50%\" y1=\"20px\" y2=\"48px\" /></svg><line stroke=\"black\" x1=\"50%\" x2=\"81.25%\" y1=\"20px\" y2=\"48px\" /></svg><line stroke=\"black\" x1=\"50%\" x2=\"81.25%\" y1=\"20px\" y2=\"48px\" /><svg width=\"2.60417%\" x=\"85.4167%\" y=\"48px\"><defs /><svg width=\"100%\" x=\"0\" y=\"0px\"><defs /><text text-anchor=\"middle\" x=\"50%\" y=\"16px\">is</text></svg><svg width=\"100%\" x=\"0%\" y=\"48px\"><defs /><svg width=\"100%\" x=\"0\" y=\"0px\"><defs /><text text-anchor=\"middle\" x=\"50%\" y=\"16px\">VBZ</text></svg></svg><line stroke=\"black\" x1=\"50%\" x2=\"50%\" y1=\"20px\" y2=\"48px\" /></svg><line stroke=\"black\" x1=\"50%\" x2=\"86.7187%\" y1=\"20px\" y2=\"48px\" /><svg width=\"3.125%\" x=\"88.0208%\" y=\"48px\"><defs /><svg width=\"100%\" x=\"0\" y=\"0px\"><defs /><text text-anchor=\"middle\" x=\"50%\" y=\"16px\">our</text></svg><svg width=\"100%\" x=\"0%\" y=\"48px\"><defs /><svg width=\"100%\" x=\"0\" y=\"0px\"><defs /><text text-anchor=\"middle\" x=\"50%\" y=\"16px\">PRP$</text></svg></svg><line stroke=\"black\" x1=\"50%\" x2=\"50%\" y1=\"20px\" y2=\"48px\" /></svg><line stroke=\"black\" x1=\"50%\" x2=\"89.5833%\" y1=\"20px\" y2=\"48px\" /><svg width=\"3.64583%\" x=\"91.1458%\" y=\"48px\"><defs /><svg width=\"100%\" x=\"0\" y=\"0px\"><defs /><text text-anchor=\"middle\" x=\"50%\" y=\"16px\">Prime</text></svg><svg width=\"100%\" x=\"0%\" y=\"48px\"><defs /><svg width=\"100%\" x=\"0\" y=\"0px\"><defs /><text text-anchor=\"middle\" x=\"50%\" y=\"16px\">NNP</text></svg></svg><line stroke=\"black\" x1=\"50%\" x2=\"50%\" y1=\"20px\" y2=\"48px\" /></svg><line stroke=\"black\" x1=\"50%\" x2=\"92.9687%\" y1=\"20px\" y2=\"48px\" /><svg width=\"5.20833%\" x=\"94.7917%\" y=\"48px\"><defs /><svg width=\"100%\" x=\"0\" y=\"0px\"><defs /><text text-anchor=\"middle\" x=\"50%\" y=\"16px\">Minister</text></svg><svg width=\"100%\" x=\"0%\" y=\"48px\"><defs /><svg width=\"100%\" x=\"0\" y=\"0px\"><defs /><text text-anchor=\"middle\" x=\"50%\" y=\"16px\">NNP</text></svg></svg><line stroke=\"black\" x1=\"50%\" x2=\"50%\" y1=\"20px\" y2=\"48px\" /></svg><line stroke=\"black\" x1=\"50%\" x2=\"97.3958%\" y1=\"20px\" y2=\"48px\" /></svg>"
      ],
      "text/plain": [
       "Tree('S', [('My', 'PRP$'), ('name', 'NN'), ('is', 'VBZ'), Tree('NE', [('Manidhar', 'NNP'), ('Karnatakam', 'NNP')]), (',', ','), ('I', 'PRP'), ('am', 'VBP'), ('living', 'VBG'), ('in', 'IN'), Tree('NE', [('Bangalore', 'NNP')]), ('and', 'CC'), ('I', 'PRP'), ('am', 'VBP'), ('fluent', 'JJ'), ('in', 'IN'), Tree('NE', [('English', 'NNP')]), (',', ','), Tree('NE', [('Telugu', 'NNP')]), (',', ','), Tree('NE', [('Hindi', 'NNP')]), ('&', 'CC'), Tree('NE', [('Kannada', 'NNP')]), (',', ','), Tree('NE', [('Narendra', 'NNP'), ('Modi', 'NNP')]), ('is', 'VBZ'), ('our', 'PRP$'), ('Prime', 'NNP'), ('Minister', 'NNP')])"
      ]
     },
     "execution_count": 84,
     "metadata": {},
     "output_type": "execute_result"
    }
   ],
   "source": [
    "ne_chunk(pos_tag(word_tokenize(\"My name is Manidhar Karnatakam, I am living in Bangalore and I am fluent in English, Telugu, Hindi & Kannada, Narendra Modi is our Prime Minister\")), binary=True)"
   ]
  },
  {
   "cell_type": "code",
   "execution_count": 79,
   "id": "b0beadcc",
   "metadata": {},
   "outputs": [
    {
     "name": "stdout",
     "output_type": "stream",
     "text": [
      "Collecting svgling\n",
      "  Downloading svgling-0.5.0-py3-none-any.whl.metadata (7.4 kB)\n",
      "Collecting svgwrite (from svgling)\n",
      "  Downloading svgwrite-1.4.3-py3-none-any.whl.metadata (8.8 kB)\n",
      "Downloading svgling-0.5.0-py3-none-any.whl (31 kB)\n",
      "Downloading svgwrite-1.4.3-py3-none-any.whl (67 kB)\n",
      "Installing collected packages: svgwrite, svgling\n",
      "Successfully installed svgling-0.5.0 svgwrite-1.4.3\n",
      "Note: you may need to restart the kernel to use updated packages.\n"
     ]
    }
   ],
   "source": [
    "pip install svgling"
   ]
  },
  {
   "cell_type": "code",
   "execution_count": 85,
   "id": "8a96a010",
   "metadata": {},
   "outputs": [
    {
     "name": "stdout",
     "output_type": "stream",
     "text": [
      "Note: you may need to restart the kernel to use updated packages.\n"
     ]
    }
   ],
   "source": [
    "pip freeze > requirements.txt"
   ]
  },
  {
   "cell_type": "code",
   "execution_count": null,
   "id": "9acc9a3d",
   "metadata": {},
   "outputs": [],
   "source": []
  }
 ],
 "metadata": {
  "kernelspec": {
   "display_name": "mcp_test",
   "language": "python",
   "name": "python3"
  },
  "language_info": {
   "codemirror_mode": {
    "name": "ipython",
    "version": 3
   },
   "file_extension": ".py",
   "mimetype": "text/x-python",
   "name": "python",
   "nbconvert_exporter": "python",
   "pygments_lexer": "ipython3",
   "version": "3.10.16"
  }
 },
 "nbformat": 4,
 "nbformat_minor": 5
}
