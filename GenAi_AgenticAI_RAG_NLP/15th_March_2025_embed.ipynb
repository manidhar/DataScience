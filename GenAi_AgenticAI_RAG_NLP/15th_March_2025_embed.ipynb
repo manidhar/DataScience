{
 "cells": [
  {
   "cell_type": "code",
   "execution_count": 1,
   "id": "25a841cf",
   "metadata": {},
   "outputs": [],
   "source": [
    "# One hot encoding\n",
    "corpus =[\"I love python\",\"I am working professional\",\"I am learning Generative AI\"]\n"
   ]
  },
  {
   "cell_type": "code",
   "execution_count": 18,
   "id": "ef5a5d69",
   "metadata": {},
   "outputs": [
    {
     "name": "stdout",
     "output_type": "stream",
     "text": [
      "['am', 'python', 'working', 'love', 'i', 'generative', 'ai', 'learning', 'professional']\n"
     ]
    }
   ],
   "source": [
    "unique_words = list(set(\" \".join(corpus).lower().split()))\n",
    "print(unique_words)"
   ]
  },
  {
   "cell_type": "code",
   "execution_count": 19,
   "id": "03ef785e",
   "metadata": {},
   "outputs": [
    {
     "name": "stdout",
     "output_type": "stream",
     "text": [
      "(0, 'am')\n",
      "(1, 'python')\n",
      "(2, 'working')\n",
      "(3, 'love')\n",
      "(4, 'i')\n",
      "(5, 'generative')\n",
      "(6, 'ai')\n",
      "(7, 'learning')\n",
      "(8, 'professional')\n"
     ]
    }
   ],
   "source": [
    "for i in enumerate(unique_words):\n",
    "  print(i)"
   ]
  },
  {
   "cell_type": "code",
   "execution_count": 21,
   "id": "0cbacd2a",
   "metadata": {},
   "outputs": [
    {
     "name": "stdout",
     "output_type": "stream",
     "text": [
      "{'am': 0, 'python': 1, 'working': 2, 'love': 3, 'i': 4, 'generative': 5, 'ai': 6, 'learning': 7, 'professional': 8}\n"
     ]
    }
   ],
   "source": [
    "word_to_index={word:i for i,word in enumerate(unique_words)}\n",
    "print(word_to_index)"
   ]
  },
  {
   "cell_type": "code",
   "execution_count": 31,
   "id": "bb294aa2",
   "metadata": {},
   "outputs": [
    {
     "name": "stdout",
     "output_type": "stream",
     "text": [
      "I love python\n",
      "[0, 0, 0, 0, 1, 0, 0, 0, 0]\n",
      "[0, 0, 0, 1, 0, 0, 0, 0, 0]\n",
      "[0, 1, 0, 0, 0, 0, 0, 0, 0]\n",
      "I am working professional\n",
      "[0, 0, 0, 0, 1, 0, 0, 0, 0]\n",
      "[1, 0, 0, 0, 0, 0, 0, 0, 0]\n",
      "[0, 0, 1, 0, 0, 0, 0, 0, 0]\n",
      "[0, 0, 0, 0, 0, 0, 0, 0, 1]\n",
      "I am learning Generative AI\n",
      "[0, 0, 0, 0, 1, 0, 0, 0, 0]\n",
      "[1, 0, 0, 0, 0, 0, 0, 0, 0]\n",
      "[0, 0, 0, 0, 0, 0, 0, 1, 0]\n",
      "[0, 0, 0, 0, 0, 1, 0, 0, 0]\n",
      "[0, 0, 0, 0, 0, 0, 1, 0, 0]\n"
     ]
    }
   ],
   "source": [
    "one_hot_vector=[]\n",
    "for sentence in corpus:\n",
    "  print(sentence)\n",
    "  sentence_vector=[]\n",
    "  for word in sentence.lower().split():\n",
    "    #print(word)\n",
    "    vector=[0]*len(unique_words)\n",
    "    #print(vector)\n",
    "    vector[word_to_index[word]]=1\n",
    "    print(vector)\n",
    "    sentence_vector.append(vector)\n",
    "  one_hot_vector.append(sentence_vector)\n",
    "  "
   ]
  },
  {
   "cell_type": "code",
   "execution_count": 33,
   "id": "4122ad06",
   "metadata": {},
   "outputs": [
    {
     "data": {
      "text/plain": [
       "[[[0, 0, 0, 0, 1, 0, 0, 0, 0],\n",
       "  [0, 0, 0, 1, 0, 0, 0, 0, 0],\n",
       "  [0, 1, 0, 0, 0, 0, 0, 0, 0]],\n",
       " [[0, 0, 0, 0, 1, 0, 0, 0, 0],\n",
       "  [1, 0, 0, 0, 0, 0, 0, 0, 0],\n",
       "  [0, 0, 1, 0, 0, 0, 0, 0, 0],\n",
       "  [0, 0, 0, 0, 0, 0, 0, 0, 1]],\n",
       " [[0, 0, 0, 0, 1, 0, 0, 0, 0],\n",
       "  [1, 0, 0, 0, 0, 0, 0, 0, 0],\n",
       "  [0, 0, 0, 0, 0, 0, 0, 1, 0],\n",
       "  [0, 0, 0, 0, 0, 1, 0, 0, 0],\n",
       "  [0, 0, 0, 0, 0, 0, 1, 0, 0]]]"
      ]
     },
     "execution_count": 33,
     "metadata": {},
     "output_type": "execute_result"
    }
   ],
   "source": [
    "one_hot_vector"
   ]
  },
  {
   "cell_type": "code",
   "execution_count": 35,
   "id": "0c08b739",
   "metadata": {},
   "outputs": [],
   "source": [
    "# Bag of words(BOW) representation"
   ]
  },
  {
   "cell_type": "code",
   "execution_count": 59,
   "id": "90384ced",
   "metadata": {},
   "outputs": [
    {
     "data": {
      "text/plain": [
       "array([[0, 1, 0, 1, 0, 0, 0, 0, 0],\n",
       "       [1, 0, 1, 0, 0, 0, 0, 0, 1],\n",
       "       [1, 2, 0, 0, 0, 1, 1, 1, 0]], dtype=int64)"
      ]
     },
     "execution_count": 59,
     "metadata": {},
     "output_type": "execute_result"
    }
   ],
   "source": [
    "from sklearn.feature_extraction.text import CountVectorizer\n",
    "corpus =[\"I love python\",\"I am working professional\",\"I am learning Generative AI in python python\"]\n",
    "vectorizer = CountVectorizer(vocabulary=unique_words)\n",
    "X = vectorizer.fit_transform(corpus)\n",
    "X.toarray()"
   ]
  },
  {
   "cell_type": "code",
   "execution_count": 58,
   "id": "de2077de",
   "metadata": {},
   "outputs": [
    {
     "data": {
      "text/plain": [
       "array(['am', 'python', 'working', 'love', 'i', 'generative', 'ai',\n",
       "       'learning', 'professional'], dtype=object)"
      ]
     },
     "execution_count": 58,
     "metadata": {},
     "output_type": "execute_result"
    }
   ],
   "source": [
    "vectorizer.get_feature_names_out()"
   ]
  },
  {
   "cell_type": "code",
   "execution_count": 62,
   "id": "09670cf1",
   "metadata": {},
   "outputs": [
    {
     "data": {
      "text/plain": [
       "array([[0.        , 0.        , 0.        , 0.        , 0.5       ,\n",
       "        0.        , 0.        , 0.5       , 0.5       , 0.5       ,\n",
       "        0.        , 0.        , 0.        ],\n",
       "       [0.        , 0.48693426, 0.        , 0.        , 0.        ,\n",
       "        0.        , 0.        , 0.        , 0.        , 0.        ,\n",
       "        0.61761437, 0.        , 0.61761437],\n",
       "       [0.43671931, 0.34431452, 0.43671931, 0.43671931, 0.        ,\n",
       "        0.43671931, 0.        , 0.        , 0.        , 0.        ,\n",
       "        0.        , 0.34431452, 0.        ],\n",
       "       [0.        , 0.        , 0.        , 0.        , 0.        ,\n",
       "        0.        , 0.78528828, 0.        , 0.        , 0.        ,\n",
       "        0.        , 0.6191303 , 0.        ]])"
      ]
     },
     "execution_count": 62,
     "metadata": {},
     "output_type": "execute_result"
    }
   ],
   "source": [
    "# TF-IDF representation(Term Frequency-Inverse Document Frequency)\n",
    "# TF=Number of times a word appears in a document/Total number of words in the document\n",
    "# IDF=log(Total number of documents/Number of documents containing the word)\n",
    "# TF-IDF=TF*IDF\n",
    "from sklearn.feature_extraction.text import TfidfVectorizer\n",
    "corpus =[\"My name is Manidhar\",\"I am working professional\",\"I am learning Generative AI in python\",\"I love python\"]\n",
    "vectorizer = TfidfVectorizer()\n",
    "X = vectorizer.fit_transform(corpus)\n",
    "X.toarray()"
   ]
  },
  {
   "cell_type": "code",
   "execution_count": 63,
   "id": "6a73c764",
   "metadata": {},
   "outputs": [
    {
     "data": {
      "text/plain": [
       "array(['ai', 'am', 'generative', 'in', 'is', 'learning', 'love',\n",
       "       'manidhar', 'my', 'name', 'professional', 'python', 'working'],\n",
       "      dtype=object)"
      ]
     },
     "execution_count": 63,
     "metadata": {},
     "output_type": "execute_result"
    }
   ],
   "source": [
    "vectorizer.get_feature_names_out()"
   ]
  },
  {
   "cell_type": "code",
   "execution_count": 65,
   "id": "20aa2af5",
   "metadata": {},
   "outputs": [
    {
     "data": {
      "text/plain": [
       "array([[0.87087416, 0.        , 0.49150604, 0.        ],\n",
       "       [1.        , 0.        , 0.        , 0.        ],\n",
       "       [0.38537163, 0.65249088, 0.        , 0.65249088]])"
      ]
     },
     "execution_count": 65,
     "metadata": {},
     "output_type": "execute_result"
    }
   ],
   "source": [
    "corpus1=[\"i am i am i am manidhar\",\"i am i am\",\"i am software engineer\"]\n",
    "X=vectorizer.fit_transform(corpus1)\n",
    "X.toarray()"
   ]
  },
  {
   "cell_type": "code",
   "execution_count": null,
   "id": "a0dac262",
   "metadata": {},
   "outputs": [],
   "source": []
  }
 ],
 "metadata": {
  "kernelspec": {
   "display_name": "base",
   "language": "python",
   "name": "python3"
  },
  "language_info": {
   "codemirror_mode": {
    "name": "ipython",
    "version": 3
   },
   "file_extension": ".py",
   "mimetype": "text/x-python",
   "name": "python",
   "nbconvert_exporter": "python",
   "pygments_lexer": "ipython3",
   "version": "3.12.4"
  }
 },
 "nbformat": 4,
 "nbformat_minor": 5
}
